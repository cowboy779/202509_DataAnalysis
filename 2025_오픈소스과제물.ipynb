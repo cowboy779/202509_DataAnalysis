{
  "nbformat": 4,
  "nbformat_minor": 0,
  "metadata": {
    "colab": {
      "provenance": [],
      "authorship_tag": "ABX9TyN80850+QgXHrAUSfQqn5sa",
      "include_colab_link": true
    },
    "kernelspec": {
      "name": "python3",
      "display_name": "Python 3"
    },
    "language_info": {
      "name": "python"
    }
  },
  "cells": [
    {
      "cell_type": "markdown",
      "metadata": {
        "id": "view-in-github",
        "colab_type": "text"
      },
      "source": [
        "<a href=\"https://colab.research.google.com/github/cowboy779/202509_DataAnalysis/blob/main/2025_%EC%98%A4%ED%94%88%EC%86%8C%EC%8A%A4%EA%B3%BC%EC%A0%9C%EB%AC%BC.ipynb\" target=\"_parent\"><img src=\"https://colab.research.google.com/assets/colab-badge.svg\" alt=\"Open In Colab\"/></a>"
      ]
    },
    {
      "cell_type": "code",
      "execution_count": 9,
      "metadata": {
        "id": "czobnRqBKl5O",
        "colab": {
          "base_uri": "https://localhost:8080/"
        },
        "outputId": "6fe2113e-319c-44a1-de7b-b11a79fb448c"
      },
      "outputs": [
        {
          "output_type": "stream",
          "name": "stdout",
          "text": [
            "   YEAR MON        EUS       GUS           WUS           HUS\n",
            "0  2015  01  193784708  59133720  12819757.886  22740838.937\n",
            "1  2015  02  189974230  56487358  12656888.218  18793320.213\n",
            "2  2015  05  177289769  22060892  13086734.214   1320895.801\n",
            "3  2015  06  186073153  12677645  14241651.402    294312.634\n",
            "4  2015  07  165114568   8893640  12083879.038    702863.645\n",
            "<class 'pandas.core.frame.DataFrame'>\n",
            "RangeIndex: 83 entries, 0 to 82\n",
            "Data columns (total 6 columns):\n",
            " #   Column  Non-Null Count  Dtype \n",
            "---  ------  --------------  ----- \n",
            " 0   YEAR    83 non-null     object\n",
            " 1   MON     83 non-null     object\n",
            " 2   EUS     83 non-null     object\n",
            " 3   GUS     83 non-null     object\n",
            " 4   WUS     83 non-null     object\n",
            " 5   HUS     83 non-null     object\n",
            "dtypes: object(6)\n",
            "memory usage: 4.0+ KB\n",
            "None\n",
            "        YEAR MON        EUS       GUS           WUS           HUS\n",
            "count     83  83         83        83            83            83\n",
            "unique    10  12         83        83            83            83\n",
            "top     2024  11  193784708  59133720  12819757.886  22740838.937\n",
            "freq      12   9          1         1             1             1\n"
          ]
        }
      ],
      "source": [
        "import requests\n",
        "import json\n",
        "import pandas as pd\n",
        "\n",
        "api_key = '4b64654441636f773133324d55745443'\n",
        "base_url = f\"http://openapi.seoul.go.kr:8088/{api_key}/json/energyUseDataSummaryInfo/1/5\"\n",
        "\n",
        "## 데이터 수집\n",
        "# response = requests.get(url)\n",
        "# data = response.json()\n",
        "# print(json.dumps(data, indent=4, ensure_ascii=False))\n",
        "\n",
        "result = []\n",
        "\n",
        "for year in range(2015, 2025):\n",
        "    for month in range(1, 13):\n",
        "        ym = f\"{year}/{month:02d}\"\n",
        "        url = f\"{base_url}/{ym}\"\n",
        "\n",
        "        response = requests.get(url)\n",
        "        data = response.json()\n",
        "\n",
        "        try:\n",
        "            rows = data['energyUseDataSummaryInfo']['row']\n",
        "            for r in rows:\n",
        "                if r.get('MM_TYPE') == '개인':\n",
        "                    filtered = {\n",
        "                        \"YEAR\": r.get(\"YEAR\"),\n",
        "                        \"MON\": r.get(\"MON\"),\n",
        "                        \"EUS\": r.get(\"EUS\"),\n",
        "                        \"GUS\": r.get(\"GUS\"),\n",
        "                        \"WUS\": r.get(\"WUS\"),\n",
        "                        \"HUS\": r.get(\"HUS\")\n",
        "                    }\n",
        "                    result.append(filtered)\n",
        "        except KeyError:\n",
        "            pass\n",
        "\n",
        "with open(\"energy_use_personal_2015_2024.json\", \"w\", encoding=\"utf-8\") as f:\n",
        "    json.dump(result, f, ensure_ascii=False, indent=4)\n",
        "\n"
      ]
    },
    {
      "cell_type": "code",
      "source": [
        "import json\n",
        "import pandas as pd\n",
        "\n",
        "with open(\"energy_use_personal_2015_2024.json\", \"r\", encoding=\"utf-8\") as f:\n",
        "    data = json.load(f)\n",
        "\n",
        "df = pd.DataFrame(data)\n",
        "\n",
        "print(df.info())\n",
        "print(df.describe())"
      ],
      "metadata": {
        "id": "F5GKl_pJarf7",
        "outputId": "92748bc9-1775-4319-8ed7-6410cf2895ef",
        "colab": {
          "base_uri": "https://localhost:8080/"
        }
      },
      "execution_count": 17,
      "outputs": [
        {
          "output_type": "stream",
          "name": "stdout",
          "text": [
            "<class 'pandas.core.frame.DataFrame'>\n",
            "RangeIndex: 83 entries, 0 to 82\n",
            "Data columns (total 6 columns):\n",
            " #   Column  Non-Null Count  Dtype \n",
            "---  ------  --------------  ----- \n",
            " 0   YEAR    83 non-null     object\n",
            " 1   MON     83 non-null     object\n",
            " 2   EUS     83 non-null     object\n",
            " 3   GUS     83 non-null     object\n",
            " 4   WUS     83 non-null     object\n",
            " 5   HUS     83 non-null     object\n",
            "dtypes: object(6)\n",
            "memory usage: 4.0+ KB\n",
            "None\n",
            "        YEAR MON        EUS       GUS           WUS           HUS\n",
            "count     83  83         83        83            83            83\n",
            "unique    10  12         83        83            83            83\n",
            "top     2024  11  193784708  59133720  12819757.886  22740838.937\n",
            "freq      12   9          1         1             1             1\n"
          ]
        }
      ]
    },
    {
      "cell_type": "code",
      "source": [
        "import json\n",
        "import pandas as pd\n",
        "\n",
        "with open(\"energy_use_personal_2015_2024.json\", \"r\", encoding=\"utf-8\") as f:\n",
        "    data = json.load(f)\n",
        "\n",
        "df = pd.DataFrame(data)\n",
        "\n",
        "df[\"YEAR\"] = df[\"YEAR\"].astype(int)\n",
        "df[\"MON\"]  = df[\"MON\"].astype(int)\n",
        "\n",
        "for c in [\"EUS\",\"GUS\",\"WUS\",\"HUS\"]:\n",
        "    df[c] = pd.to_numeric(df[c], errors=\"coerce\")\n",
        "\n",
        "def season(m):\n",
        "    if 3 <= m <= 5:   return \"봄\"\n",
        "    if 6 <= m <= 8:   return \"여름\"\n",
        "    if 9 <= m <= 11:  return \"가을\"\n",
        "    return \"겨울\"\n",
        "\n",
        "df[\"SEASON\"] = df[\"MON\"].apply(season)\n",
        "\n",
        "df = df[(df[\"YEAR\"] >= 2015) & (df[\"YEAR\"] <= 2024)]\n",
        "\n",
        "\n",
        "out = df.groupby([\"YEAR\",\"SEASON\"])[[\"EUS\",\"GUS\",\"WUS\",\"HUS\"]].sum().reset_index()\n",
        "\n",
        "# print(df[[\"YEAR\",\"MON\",\"SEASON\",\"EUS\",\"GUS\",\"WUS\",\"HUS\"]].head(12))\n",
        "print(\"\\n=== 연도별·계절별 합계 ===\")\n",
        "print(out)\n"
      ],
      "metadata": {
        "id": "KhGDOZT0b4bt",
        "outputId": "4a2b090c-000c-451f-b2ae-4fddefff5d66",
        "colab": {
          "base_uri": "https://localhost:8080/"
        }
      },
      "execution_count": 31,
      "outputs": [
        {
          "output_type": "stream",
          "name": "stdout",
          "text": [
            "\n",
            "=== 연도별·계절별 합계 ===\n",
            "    YEAR SEASON         EUS           GUS           WUS           HUS\n",
            "0   2015     가을   186473958  8.924018e+06  1.471183e+07  3.167520e+06\n",
            "1   2015     겨울   587147080  1.557163e+08  3.938081e+07  6.263678e+07\n",
            "2   2015      봄   177289769  2.206089e+07  1.308673e+07  1.320896e+06\n",
            "3   2015     여름   593188200  2.919030e+07  4.149008e+07  1.457465e+06\n",
            "4   2016     가을   644316084  4.107559e+07  3.762210e+07  1.560500e+07\n",
            "5   2016     겨울   432008284  1.265215e+08  2.653103e+07  4.863916e+07\n",
            "6   2016      봄   601441726  1.234673e+08  4.070317e+07  1.979349e+07\n",
            "7   2016     여름   205061790  1.334493e+07  1.454346e+07  3.406011e+05\n",
            "8   2017     가을   650186124  4.693333e+07  4.092243e+07  1.574849e+07\n",
            "9   2017     겨울   449162431  1.353193e+08  2.780120e+07  3.830105e+07\n",
            "10  2017      봄   418281542  8.940016e+07  2.654828e+07  3.128769e+07\n",
            "11  2017     여름   297850172  8.429188e+06  1.429183e+07  1.189270e+05\n",
            "12  2018     가을   227294230  3.123951e+07  1.370669e+07  1.027629e+07\n",
            "13  2018     겨울   481964313  1.425168e+08  2.663753e+07  4.309355e+07\n",
            "14  2018      봄   219203768  7.342640e+07  1.276917e+07  1.092494e+07\n",
            "15  2018     여름   492526454  2.839190e+07  2.838500e+07  2.612934e+07\n",
            "16  2019     가을   459379437  3.671271e+07  2.892741e+07  1.757356e+07\n",
            "17  2019     겨울   743504287  2.167195e+08  4.112297e+07  1.516563e+08\n",
            "18  2019      봄   455902908  1.145381e+08  2.692082e+07  2.105285e+07\n",
            "19  2019     여름   483974220  2.647254e+07  2.867488e+07  1.300648e+06\n",
            "20  2020     가을   247308528  3.009568e+07  1.483501e+07  1.288274e+07\n",
            "21  2020     겨울   520249405  1.274595e+08  2.908938e+07  4.736163e+07\n",
            "22  2020      봄   492201156  1.127412e+08  2.846031e+07  2.269424e+07\n",
            "23  2020     여름   320723239  1.017743e+07  1.560010e+07  2.868147e+05\n",
            "24  2021     가을   799968793  4.901420e+07  4.640347e+07  1.784375e+07\n",
            "25  2021     겨울   824422188  2.211885e+08  4.282677e+07  7.929756e+07\n",
            "26  2021      봄   241741576  2.463840e+07  1.431246e+07  2.246730e+06\n",
            "27  2021     여름   999411500  3.873512e+07  4.753189e+07  6.053780e+06\n",
            "28  2022     가을   546202959  3.769251e+07  2.950178e+07  1.790700e+07\n",
            "29  2022     겨울   266989892  5.223060e+07  1.453874e+07  3.165549e+07\n",
            "30  2022      봄   495638377  1.037633e+08  2.852553e+07  1.730127e+07\n",
            "31  2022     여름   973835598  3.488870e+07  4.555058e+07  4.167387e+06\n",
            "32  2023     가을   843375757  4.269811e+07  4.429949e+07  3.573225e+07\n",
            "33  2023     겨울   271015225  4.756020e+07  1.451993e+07  2.416925e+07\n",
            "34  2023      봄   247142965  3.848423e+07  1.395188e+07  4.292056e+06\n",
            "35  2023     여름   666622671  2.322973e+07  3.022453e+07  1.700004e+06\n",
            "36  2024     가을   950068983  3.138077e+07  4.511966e+07  1.495229e+07\n",
            "37  2024     겨울   705861932  1.728968e+08  3.569349e+07  4.696977e+07\n",
            "38  2024      봄   760405814  1.124267e+08  4.228083e+07  4.488856e+07\n",
            "39  2024     여름  1074130907  2.729473e+07  4.583256e+07  2.252998e+07\n"
          ]
        }
      ]
    }
  ]
}